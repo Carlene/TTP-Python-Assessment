{
 "cells": [
  {
   "cell_type": "code",
   "execution_count": null,
   "metadata": {},
   "outputs": [],
   "source": [
    "''' #1\n",
    "Write a function called 'addBetween'.\n",
    "\n",
    "Given 2 integers, \"addBetween\" returns the sum \n",
    "of all numbers between the two given integers, \n",
    "beginning at num1, and excluding num2.\n",
    "\n",
    "\n",
    "If num2 is not greater than num1, the function should return 0.\n",
    "output = addBetween(3, 7)\n",
    "print(output) # --> 18\n",
    "'''"
   ]
  },
  {
   "cell_type": "code",
   "execution_count": 36,
   "metadata": {},
   "outputs": [
    {
     "name": "stdout",
     "output_type": "stream",
     "text": [
      "6\n",
      "8\n",
      "10\n",
      "12\n",
      "None\n"
     ]
    }
   ],
   "source": [
    "def addBetween(int1, int2):\n",
    "    for number in range(int1,int2):\n",
    "        if int2>int1:\n",
    "            number+=number\n",
    "            print(number)\n",
    "        else: print(\"0\")\n",
    "    return\n",
    "    \n",
    "\n",
    "output = addBetween(3,7)\n",
    "print(output)"
   ]
  },
  {
   "cell_type": "code",
   "execution_count": null,
   "metadata": {},
   "outputs": [],
   "source": [
    "''' #2\n",
    "write a function called 'combine'\n",
    "\n",
    "Given two lists, combine returns a new list\n",
    "with all elements of both lists, sorted\n",
    "\n",
    "lst1 = ['b', 'c','a','f']\n",
    "lst2 = ['d','e','g']\n",
    "\n",
    "output = combine(lst1,lst2)\n",
    "print(output) # -> ['a','b','c','d','e','f', 'g']"
   ]
  },
  {
   "cell_type": "code",
   "execution_count": 16,
   "metadata": {},
   "outputs": [
    {
     "name": "stdout",
     "output_type": "stream",
     "text": [
      "None\n"
     ]
    }
   ],
   "source": [
    "lst1 = ['b', 'c','a','f']\n",
    "lst2 = ['d','e','g']\n",
    "\n",
    "x = lst1.extend(lst2)\n",
    "print(x)\n",
    "\n",
    "# def combine(lst1, lst2):\n",
    "#     return lst1.append(lst2)\n",
    "                 \n",
    "# sorted(lst1)\n",
    "\n",
    "# output = combine(lst1,lst2)\n",
    "# print(output) # -> ['a','b','c','d','e','f', 'g']\n"
   ]
  },
  {
   "cell_type": "code",
   "execution_count": 38,
   "metadata": {},
   "outputs": [
    {
     "ename": "TypeError",
     "evalue": "'dict' object is not reversible",
     "output_type": "error",
     "traceback": [
      "\u001b[0;31m---------------------------------------------------------------------------\u001b[0m",
      "\u001b[0;31mTypeError\u001b[0m                                 Traceback (most recent call last)",
      "\u001b[0;32m<ipython-input-38-a60221698ce2>\u001b[0m in \u001b[0;36m<module>\u001b[0;34m\u001b[0m\n\u001b[1;32m     12\u001b[0m \u001b[0;34m\u001b[0m\u001b[0m\n\u001b[1;32m     13\u001b[0m \u001b[0md\u001b[0m \u001b[0;34m=\u001b[0m \u001b[0;34m{\u001b[0m\u001b[0;34m'cat'\u001b[0m\u001b[0;34m:\u001b[0m \u001b[0;36m1\u001b[0m\u001b[0;34m,\u001b[0m \u001b[0;34m'dog'\u001b[0m\u001b[0;34m:\u001b[0m\u001b[0;36m2\u001b[0m\u001b[0;34m,\u001b[0m \u001b[0;34m'parrot'\u001b[0m\u001b[0;34m:\u001b[0m\u001b[0;36m3\u001b[0m\u001b[0;34m,\u001b[0m \u001b[0;34m'raptor'\u001b[0m\u001b[0;34m:\u001b[0m\u001b[0;36m4\u001b[0m\u001b[0;34m,\u001b[0m \u001b[0;34m'snake'\u001b[0m\u001b[0;34m:\u001b[0m\u001b[0;36m5\u001b[0m\u001b[0;34m}\u001b[0m\u001b[0;34m\u001b[0m\u001b[0;34m\u001b[0m\u001b[0m\n\u001b[0;32m---> 14\u001b[0;31m \u001b[0md_new\u001b[0m \u001b[0;34m=\u001b[0m \u001b[0mreversed\u001b[0m\u001b[0;34m(\u001b[0m\u001b[0md\u001b[0m\u001b[0;34m)\u001b[0m\u001b[0;34m\u001b[0m\u001b[0;34m\u001b[0m\u001b[0m\n\u001b[0m\u001b[1;32m     15\u001b[0m \u001b[0mprint\u001b[0m\u001b[0;34m(\u001b[0m\u001b[0md_new\u001b[0m\u001b[0;34m)\u001b[0m\u001b[0;34m\u001b[0m\u001b[0;34m\u001b[0m\u001b[0m\n",
      "\u001b[0;31mTypeError\u001b[0m: 'dict' object is not reversible"
     ]
    }
   ],
   "source": [
    "''' #3\n",
    "write a function called 'switch'\n",
    "Given a dictionary, the function switch returns a new dictionary\n",
    "with the keys and values reversed\n",
    "\n",
    "d = {'cat': 1, 'dog':2, 'parrot':3, 'raptor':4, 'snake':5}\n",
    "output = switch(d)\n",
    "print(output) # -> {1:'cat', 2:'dog', 3:'parrot', 4:'raptor', 5:'snake'}\n",
    "\n",
    "'''\n",
    "# def switch(dictionary):\n",
    "\n"
   ]
  },
  {
   "cell_type": "code",
   "execution_count": 41,
   "metadata": {},
   "outputs": [
    {
     "name": "stdout",
     "output_type": "stream",
     "text": [
      "False\n",
      "None\n"
     ]
    }
   ],
   "source": [
    "''' #4\n",
    "Write a function called 'isSameLength'.\n",
    "\n",
    "Given two words, \"isSameLength\" returns whether the given \n",
    "words have the same length.\n",
    "\n",
    "output = isSameLength('words', 'super')\n",
    "print(output) # --> True\n",
    "'''\n",
    "\n",
    "def isSameLength(word1, word2):\n",
    "    if len(word1) == len(word2):\n",
    "        print(True)\n",
    "    else:\n",
    "        print(False)\n",
    "    return\n",
    "\n",
    "output = isSameLength('words', 'super')\n",
    "print(output) # --> True"
   ]
  },
  {
   "cell_type": "code",
   "execution_count": null,
   "metadata": {},
   "outputs": [],
   "source": [
    "''' #5\n",
    "write a function called 'stringToWords'\n",
    "given a string with two sentences, stringToWords\n",
    "separate the sentences into two lists of words, one for each sentence.\n",
    "\n",
    "string1 = \"This was a sentence. And it's now a list.\"\n",
    "output = stringToWords(string1)\n",
    "print(output) ->  ['This', 'was', 'a', 'sentence'],['And', \"it's\", 'now', 'a', 'list']\n",
    "\n",
    "'''\n",
    "\n",
    "def stringToWords:\n",
    "    "
   ]
  },
  {
   "cell_type": "code",
   "execution_count": null,
   "metadata": {},
   "outputs": [],
   "source": [
    "''' #6\n",
    "write a function called 'bigSixSmall'\n",
    "\n",
    "given a list of numbers, bigSixSmall returns a new list:\n",
    "if the number from the list is > 6, the new list should have \"Big\" in it\n",
    "if the number from the list is 6, the new list should have \"Six\" in it\n",
    "if the number from the list is < 6, the list should say \"Small\"\n",
    "\n",
    "list1 = [1,7,2,6,13]\n",
    "\n",
    "output = bigSixSmall(list1)\n",
    "print(output)  #-> ['Small', 'Big', 'Small', 'Six', 'Big' ] \n",
    "'''\n",
    "\n"
   ]
  },
  {
   "cell_type": "code",
   "execution_count": null,
   "metadata": {},
   "outputs": [],
   "source": [
    "''' #7\n",
    "Write a function called 'select'.\n",
    "\n",
    "Given list and a dictionary, \"select\" returns a new dictionary\n",
    "whose keys are those in the given dictionary which are present \n",
    "in the given list.\n",
    "\n",
    "Notes:\n",
    "\n",
    "If keys are present in the given list, but are not in the given \n",
    "dictionary, it should ignore them.\n",
    "It does not modify the passed in dictionary.\n",
    "input_list = ['a', 'c', 'e']\n",
    "input_dict = {'a': 1, 'b': 2, 'c': 3, 'd': 4}\n",
    "\n",
    "output = select(input_list, input_dict)\n",
    "print(output) # --> {'a': 1, 'c': 3}\n",
    "\n",
    "print(input_dict) # --> {'a': 1, 'b': 2, 'c': 3, 'd': 4}\n",
    "'''"
   ]
  },
  {
   "cell_type": "code",
   "execution_count": null,
   "metadata": {},
   "outputs": [],
   "source": [
    "''' #8\n",
    "Write a function called 'to_dictionary' that takes in\n",
    "a list of numbers as input\n",
    "and returns a dictionary.\n",
    "\n",
    "The keys should be each number from the input list,\n",
    "and the values should be \n",
    "True if the number is even \n",
    "or False if the number is odd\n",
    "\n",
    "output = to_dictionary([3,6,9,12,15])\n",
    "print(output) -->  {3:False, 6:True, 9:False, 12:True, 15:False}\n",
    "'''"
   ]
  }
 ],
 "metadata": {
  "kernelspec": {
   "display_name": "Python 3",
   "language": "python",
   "name": "python3"
  },
  "language_info": {
   "codemirror_mode": {
    "name": "ipython",
    "version": 3
   },
   "file_extension": ".py",
   "mimetype": "text/x-python",
   "name": "python",
   "nbconvert_exporter": "python",
   "pygments_lexer": "ipython3",
   "version": "3.7.3"
  }
 },
 "nbformat": 4,
 "nbformat_minor": 2
}
