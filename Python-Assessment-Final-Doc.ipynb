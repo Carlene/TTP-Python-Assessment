{
 "cells": [
  {
   "cell_type": "code",
   "execution_count": null,
   "metadata": {},
   "outputs": [],
   "source": [
    "''' #1\n",
    "Write a function called 'addBetween'.\n",
    "\n",
    "Given 2 integers, \"addBetween\" returns the sum \n",
    "of all numbers between the two given integers, \n",
    "beginning at num1, and excluding num2.\n",
    "\n",
    "\n",
    "If num2 is not greater than num1, the function should return 0.\n",
    "output = addBetween(3, 7)\n",
    "print(output) # --> 18\n",
    "'''"
   ]
  },
  {
   "cell_type": "code",
   "execution_count": 1,
   "metadata": {},
   "outputs": [
    {
     "name": "stdout",
     "output_type": "stream",
     "text": [
      "3\n",
      "4\n",
      "5\n",
      "6\n",
      "18\n"
     ]
    }
   ],
   "source": [
    "# for numbers between 3,7 want to add 3+4+5+6 which equals 18\n",
    "# need it to go int1, int1 +1, int1 +2, int1 +3, to int2 \n",
    "# need to also add these numbers together for one sum\n",
    "\n",
    "def addBetween(int1, int2):\n",
    "    for number in range(int1,int2):\n",
    "        if int2>int1:\n",
    "            print(number)\n",
    "            number+=1\n",
    "        else: \n",
    "            print(\"0\")\n",
    "    return (int1 + (int1 +1) + (int1+2) + (int1 + 3))\n",
    "    \n",
    "    \n",
    "output = addBetween(3,7)\n",
    "print(output)"
   ]
  },
  {
   "cell_type": "code",
   "execution_count": null,
   "metadata": {},
   "outputs": [],
   "source": [
    "''' #2\n",
    "write a function called 'combine'\n",
    "\n",
    "Given two lists, combine returns a new list\n",
    "with all elements of both lists, sorted\n",
    "\n",
    "lst1 = ['b', 'c','a','f']\n",
    "lst2 = ['d','e','g']\n",
    "\n",
    "output = combine(lst1,lst2)\n",
    "print(output) # -> ['a','b','c','d','e','f', 'g']"
   ]
  },
  {
   "cell_type": "code",
   "execution_count": 2,
   "metadata": {},
   "outputs": [
    {
     "name": "stdout",
     "output_type": "stream",
     "text": [
      "['a', 'b', 'c', 'd', 'e', 'f', 'g']\n"
     ]
    }
   ],
   "source": [
    "# need to combine lists first, then sort them when they're in one big list\n",
    "\n",
    "lst1 = ['b', 'c','a','f']\n",
    "lst2 = ['d','e','g']\n",
    "\n",
    "# lst1.extend(lst2)\n",
    "# lst1.sort()\n",
    "# print(lst1)\n",
    "\n",
    "def combine(lst1, lst2):\n",
    "    lst1.extend(lst2)\n",
    "    lst1.sort()\n",
    "    return(lst1)\n",
    "\n",
    "# def combine(lst1, lst2):\n",
    "#     return lst1.extend(lst2)\n",
    "\n",
    "output = combine(lst1,lst2)\n",
    "print(output)\n"
   ]
  },
  {
   "cell_type": "code",
   "execution_count": 3,
   "metadata": {},
   "outputs": [
    {
     "name": "stdout",
     "output_type": "stream",
     "text": [
      "1 cat\n",
      "2 dog\n",
      "3 parrot\n",
      "4 raptor\n",
      "5 snake\n",
      "None\n"
     ]
    }
   ],
   "source": [
    "''' #3\n",
    "write a function called 'switch'\n",
    "Given a dictionary, the function switch returns a new dictionary\n",
    "with the keys and values reversed\n",
    "\n",
    "d = {'cat': 1, 'dog':2, 'parrot':3, 'raptor':4, 'snake':5}\n",
    "output = switch(d)\n",
    "print(output) # -> {1:'cat', 2:'dog', 3:'parrot', 4:'raptor', 5:'snake'}\n",
    "\n",
    "'''\n",
    "d = {'cat': 1, 'dog':2, 'parrot':3, 'raptor':4, 'snake':5}\n",
    "\n",
    "def switch(dictionary):\n",
    "    for key, value in dictionary.items():\n",
    "        print(value,key)\n",
    "    return\n",
    "\n",
    "# def switch(dictionary):\n",
    "#     for key, value in dictionary.items():\n",
    "#         print({value,key})\n",
    "#     return\n",
    "\n",
    "output = switch(d)\n",
    "print(output)"
   ]
  },
  {
   "cell_type": "code",
   "execution_count": 4,
   "metadata": {},
   "outputs": [
    {
     "name": "stdout",
     "output_type": "stream",
     "text": [
      "True\n"
     ]
    }
   ],
   "source": [
    "''' #4\n",
    "Write a function called 'isSameLength'.\n",
    "\n",
    "Given two words, \"isSameLength\" returns whether the given \n",
    "words have the same length.\n",
    "\n",
    "output = isSameLength('words', 'super')\n",
    "print(output) # --> True\n",
    "'''\n",
    "\n",
    "def isSameLength(word1, word2):\n",
    "    if len(word1) == len(word2):\n",
    "        return(True)\n",
    "    else:\n",
    "        return(False)\n",
    "\n",
    "output = isSameLength('words', 'super')\n",
    "print(output) # --> True"
   ]
  },
  {
   "cell_type": "code",
   "execution_count": 5,
   "metadata": {},
   "outputs": [
    {
     "name": "stdout",
     "output_type": "stream",
     "text": [
      "['This', 'was', 'a', 'sentence.', 'And', \"it's\", 'now', 'a', 'list.']\n"
     ]
    }
   ],
   "source": [
    "''' #5\n",
    "write a function called 'stringToWords'\n",
    "given a string with two sentences, stringToWords\n",
    "separate the sentences into two lists of words, one for each sentence.\n",
    "\n",
    "string1 = \"This was a sentence. And it's now a list.\"\n",
    "output = stringToWords(string1)\n",
    "print(output) ->  ['This', 'was', 'a', 'sentence'],['And', \"it's\", 'now', 'a', 'list']\n",
    "\n",
    "'''\n",
    "\n",
    "string1 = \"This was a sentence. And it's now a list.\"\n",
    "\n",
    "\n",
    "def stringToWords(string):\n",
    "    return list(string.split())\n",
    "\n",
    "\n",
    "# def stringToWords(string):\n",
    "#     return string.split('.', 1))\n",
    "    \n",
    "output = stringToWords(string1)\n",
    "print(output)"
   ]
  },
  {
   "cell_type": "code",
   "execution_count": 6,
   "metadata": {},
   "outputs": [
    {
     "name": "stdout",
     "output_type": "stream",
     "text": [
      "['Small']\n",
      "['Big']\n",
      "['Small']\n",
      "['Six']\n",
      "['Big']\n",
      "None\n"
     ]
    }
   ],
   "source": [
    "''' #6\n",
    "write a function called 'bigSixSmall'\n",
    "\n",
    "given a list of numbers, bigSixSmall returns a new list:\n",
    "if the number from the list is > 6, the new list should have \"Big\" in it\n",
    "if the number from the list is 6, the new list should have \"Six\" in it\n",
    "if the number from the list is < 6, the list should say \"Small\"\n",
    "\n",
    "list1 = [1,7,2,6,13]\n",
    "\n",
    "output = bigSixSmall(list1)\n",
    "print(output)  #-> ['Small', 'Big', 'Small', 'Six', 'Big' ] \n",
    "'''\n",
    "list1 = [1,7,2,6,13]\n",
    "\n",
    "def bigSixSmall(lst):\n",
    "    for number in lst:\n",
    "        if number > 6:\n",
    "            print([\"Big\"])\n",
    "        if number == 6:\n",
    "            print([\"Six\"])\n",
    "        if number < 6:\n",
    "            print([\"Small\"])\n",
    "    return\n",
    "\n",
    "output = bigSixSmall(list1)\n",
    "print(output) "
   ]
  },
  {
   "cell_type": "code",
   "execution_count": 7,
   "metadata": {},
   "outputs": [
    {
     "name": "stdout",
     "output_type": "stream",
     "text": [
      "{'a': 1, 'c': 3}\n",
      "{'a': 1, 'b': 2, 'c': 3, 'd': 4}\n"
     ]
    }
   ],
   "source": [
    "''' #7\n",
    "Write a function called 'select'.\n",
    "\n",
    "Given list and a dictionary, \"select\" returns a new dictionary\n",
    "whose keys are those in the given dictionary which are present \n",
    "in the given list.\n",
    "\n",
    "Notes:\n",
    "\n",
    "If keys are present in the given list, but are not in the given \n",
    "dictionary, it should ignore them.\n",
    "It does not modify the passed in dictionary.\n",
    "input_list = ['a', 'c', 'e']\n",
    "input_dict = {'a': 1, 'b': 2, 'c': 3, 'd': 4}\n",
    "\n",
    "output = select(input_list, input_dict)\n",
    "print(output) # --> {'a': 1, 'c': 3}\n",
    "\n",
    "print(input_dict) # --> {'a': 1, 'b': 2, 'c': 3, 'd': 4}\n",
    "'''\n",
    "input_list = ['a', 'c', 'e']\n",
    "input_dict = {'a': 1, 'b': 2, 'c': 3, 'd': 4}\n",
    "\n",
    "def select(lst, dictionary):\n",
    "    new_dict = {}\n",
    "    for item in lst:\n",
    "        if item in dictionary:\n",
    "            new_dict[item] = dictionary[item]\n",
    "        else:\n",
    "            pass\n",
    "    return new_dict\n",
    "\n",
    "\n",
    "output = select(input_list, input_dict)\n",
    "print(output) \n",
    "\n",
    "print(input_dict)"
   ]
  },
  {
   "cell_type": "code",
   "execution_count": 8,
   "metadata": {},
   "outputs": [
    {
     "name": "stdout",
     "output_type": "stream",
     "text": [
      "3 False\n",
      "6 True\n",
      "9 False\n",
      "12 True\n",
      "15 False\n",
      "None\n"
     ]
    }
   ],
   "source": [
    "''' #8\n",
    "Write a function called 'to_dictionary' that takes in\n",
    "a list of numbers as input\n",
    "and returns a dictionary.\n",
    "\n",
    "The keys should be each number from the input list,\n",
    "and the values should be \n",
    "True if the number is even \n",
    "or False if the number is odd\n",
    "\n",
    "output = to_dictionary([3,6,9,12,15])\n",
    "print(output) -->  {3:False, 6:True, 9:False, 12:True, 15:False}\n",
    "'''\n",
    "\n",
    "def to_dictionary(lst):\n",
    "    for key in lst:\n",
    "        if key % 2 == 0:\n",
    "            print(key, True)\n",
    "        else:\n",
    "            print(key, False)\n",
    "    return\n",
    "\n",
    "output = to_dictionary([3,6,9,12,15])\n",
    "print(output) # {3:False, 6:True, 9:False, 12:True, 15:False}"
   ]
  },
  {
   "cell_type": "code",
   "execution_count": null,
   "metadata": {},
   "outputs": [],
   "source": []
  }
 ],
 "metadata": {
  "kernelspec": {
   "display_name": "Python 3",
   "language": "python",
   "name": "python3"
  },
  "language_info": {
   "codemirror_mode": {
    "name": "ipython",
    "version": 3
   },
   "file_extension": ".py",
   "mimetype": "text/x-python",
   "name": "python",
   "nbconvert_exporter": "python",
   "pygments_lexer": "ipython3",
   "version": "3.7.3"
  }
 },
 "nbformat": 4,
 "nbformat_minor": 2
}
